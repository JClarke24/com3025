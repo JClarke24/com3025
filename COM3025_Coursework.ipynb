{
  "nbformat": 4,
  "nbformat_minor": 0,
  "metadata": {
    "colab": {
      "name": "COM3025_Coursework.ipynb",
      "provenance": [],
      "collapsed_sections": []
    },
    "kernelspec": {
      "name": "python3",
      "display_name": "Python 3"
    },
    "language_info": {
      "name": "python"
    },
    "accelerator": "GPU"
  },
  "cells": [
    {
      "cell_type": "code",
      "metadata": {
        "id": "PFrJ-Dmtm9Qk",
        "colab": {
          "base_uri": "https://localhost:8080/"
        },
        "outputId": "4dc5d183-8f35-42bb-fd74-dda904368939"
      },
      "source": [
        "# Mounting drive that has access to dataset\n",
        "from google.colab import drive\n",
        "drive.mount('/content/gdrive')"
      ],
      "execution_count": null,
      "outputs": [
        {
          "output_type": "stream",
          "text": [
            "Mounted at /content/gdrive\n"
          ],
          "name": "stdout"
        }
      ]
    },
    {
      "cell_type": "code",
      "metadata": {
        "id": "op0n1wUvqBUn"
      },
      "source": [
        "# Installing keras\n",
        "!pip install -q keras"
      ],
      "execution_count": null,
      "outputs": []
    },
    {
      "cell_type": "code",
      "metadata": {
        "id": "VpTx0yY5qGt9"
      },
      "source": [
        "# Importing necessary libraries\n",
        "import keras\n",
        "import tensorflow as tf\n",
        "import pandas as pd\n",
        "import matplotlib\n",
        "import matplotlib.pyplot as plt\n",
        "import string\n",
        "import numpy as np\n",
        "import re"
      ],
      "execution_count": null,
      "outputs": []
    },
    {
      "cell_type": "code",
      "metadata": {
        "id": "qO3kw2-3nwuX"
      },
      "source": [
        "# Specifying the path of the dataset\n",
        "train_path = '/content/gdrive/MyDrive/COM3025_Coursework/train.csv'\n",
        "test_path = '/content/gdrive/MyDrive/COM3025_Coursework/test.csv'"
      ],
      "execution_count": null,
      "outputs": []
    },
    {
      "cell_type": "code",
      "metadata": {
        "id": "rdVHAryWo0gH",
        "colab": {
          "base_uri": "https://localhost:8080/",
          "height": 381
        },
        "outputId": "8238f63b-8e9f-4f56-8646-f4143f73a2fa"
      },
      "source": [
        "# Using a dataframe to store the dataset\n",
        "train_df = pd.read_csv(train_path)\n",
        "test_df = pd.read_csv(test_path)\n",
        "\n",
        "print(train_df.shape)\n",
        "train_df[0:10]"
      ],
      "execution_count": null,
      "outputs": [
        {
          "output_type": "stream",
          "text": [
            "(27481, 4)\n"
          ],
          "name": "stdout"
        },
        {
          "output_type": "execute_result",
          "data": {
            "text/html": [
              "<div>\n",
              "<style scoped>\n",
              "    .dataframe tbody tr th:only-of-type {\n",
              "        vertical-align: middle;\n",
              "    }\n",
              "\n",
              "    .dataframe tbody tr th {\n",
              "        vertical-align: top;\n",
              "    }\n",
              "\n",
              "    .dataframe thead th {\n",
              "        text-align: right;\n",
              "    }\n",
              "</style>\n",
              "<table border=\"1\" class=\"dataframe\">\n",
              "  <thead>\n",
              "    <tr style=\"text-align: right;\">\n",
              "      <th></th>\n",
              "      <th>textID</th>\n",
              "      <th>text</th>\n",
              "      <th>selected_text</th>\n",
              "      <th>sentiment</th>\n",
              "    </tr>\n",
              "  </thead>\n",
              "  <tbody>\n",
              "    <tr>\n",
              "      <th>0</th>\n",
              "      <td>cb774db0d1</td>\n",
              "      <td>I`d have responded, if I were going</td>\n",
              "      <td>I`d have responded, if I were going</td>\n",
              "      <td>neutral</td>\n",
              "    </tr>\n",
              "    <tr>\n",
              "      <th>1</th>\n",
              "      <td>549e992a42</td>\n",
              "      <td>Sooo SAD I will miss you here in San Diego!!!</td>\n",
              "      <td>Sooo SAD</td>\n",
              "      <td>negative</td>\n",
              "    </tr>\n",
              "    <tr>\n",
              "      <th>2</th>\n",
              "      <td>088c60f138</td>\n",
              "      <td>my boss is bullying me...</td>\n",
              "      <td>bullying me</td>\n",
              "      <td>negative</td>\n",
              "    </tr>\n",
              "    <tr>\n",
              "      <th>3</th>\n",
              "      <td>9642c003ef</td>\n",
              "      <td>what interview! leave me alone</td>\n",
              "      <td>leave me alone</td>\n",
              "      <td>negative</td>\n",
              "    </tr>\n",
              "    <tr>\n",
              "      <th>4</th>\n",
              "      <td>358bd9e861</td>\n",
              "      <td>Sons of ****, why couldn`t they put them on t...</td>\n",
              "      <td>Sons of ****,</td>\n",
              "      <td>negative</td>\n",
              "    </tr>\n",
              "    <tr>\n",
              "      <th>5</th>\n",
              "      <td>28b57f3990</td>\n",
              "      <td>http://www.dothebouncy.com/smf - some shameles...</td>\n",
              "      <td>http://www.dothebouncy.com/smf - some shameles...</td>\n",
              "      <td>neutral</td>\n",
              "    </tr>\n",
              "    <tr>\n",
              "      <th>6</th>\n",
              "      <td>6e0c6d75b1</td>\n",
              "      <td>2am feedings for the baby are fun when he is a...</td>\n",
              "      <td>fun</td>\n",
              "      <td>positive</td>\n",
              "    </tr>\n",
              "    <tr>\n",
              "      <th>7</th>\n",
              "      <td>50e14c0bb8</td>\n",
              "      <td>Soooo high</td>\n",
              "      <td>Soooo high</td>\n",
              "      <td>neutral</td>\n",
              "    </tr>\n",
              "    <tr>\n",
              "      <th>8</th>\n",
              "      <td>e050245fbd</td>\n",
              "      <td>Both of you</td>\n",
              "      <td>Both of you</td>\n",
              "      <td>neutral</td>\n",
              "    </tr>\n",
              "    <tr>\n",
              "      <th>9</th>\n",
              "      <td>fc2cbefa9d</td>\n",
              "      <td>Journey!? Wow... u just became cooler.  hehe....</td>\n",
              "      <td>Wow... u just became cooler.</td>\n",
              "      <td>positive</td>\n",
              "    </tr>\n",
              "  </tbody>\n",
              "</table>\n",
              "</div>"
            ],
            "text/plain": [
              "       textID  ... sentiment\n",
              "0  cb774db0d1  ...   neutral\n",
              "1  549e992a42  ...  negative\n",
              "2  088c60f138  ...  negative\n",
              "3  9642c003ef  ...  negative\n",
              "4  358bd9e861  ...  negative\n",
              "5  28b57f3990  ...   neutral\n",
              "6  6e0c6d75b1  ...  positive\n",
              "7  50e14c0bb8  ...   neutral\n",
              "8  e050245fbd  ...   neutral\n",
              "9  fc2cbefa9d  ...  positive\n",
              "\n",
              "[10 rows x 4 columns]"
            ]
          },
          "metadata": {
            "tags": []
          },
          "execution_count": 5
        }
      ]
    },
    {
      "cell_type": "code",
      "metadata": {
        "colab": {
          "base_uri": "https://localhost:8080/"
        },
        "id": "e3Lq3pBIHl0N",
        "outputId": "82e90fd5-4791-4e2a-cd33-a4c8f239c19d"
      },
      "source": [
        "# Remove NA values\n",
        "train_df = train_df.dropna(axis = 0)\n",
        "train_df.isnull().sum()"
      ],
      "execution_count": null,
      "outputs": [
        {
          "output_type": "execute_result",
          "data": {
            "text/plain": [
              "textID           0\n",
              "text             0\n",
              "selected_text    0\n",
              "sentiment        0\n",
              "dtype: int64"
            ]
          },
          "metadata": {
            "tags": []
          },
          "execution_count": 6
        }
      ]
    },
    {
      "cell_type": "code",
      "metadata": {
        "colab": {
          "base_uri": "https://localhost:8080/"
        },
        "id": "_RN4x9w0Nt8k",
        "outputId": "755015a5-88ff-45d6-cd96-cf3ef11a71dd"
      },
      "source": [
        "test_df = train_df.dropna(axis = 0)\n",
        "test_df.isnull().sum()"
      ],
      "execution_count": null,
      "outputs": [
        {
          "output_type": "execute_result",
          "data": {
            "text/plain": [
              "textID           0\n",
              "text             0\n",
              "selected_text    0\n",
              "sentiment        0\n",
              "dtype: int64"
            ]
          },
          "metadata": {
            "tags": []
          },
          "execution_count": 7
        }
      ]
    },
    {
      "cell_type": "code",
      "metadata": {
        "id": "PTSo7mrAQPu4"
      },
      "source": [
        "# Removes punctations, symbols and web url from the text in the dataset\n",
        "def clean_text(data):\n",
        "    '''Make text lowercase, remove text in square brackets,remove links,remove punctuation\n",
        "    and remove words containing numbers.'''\n",
        "    \n",
        "    \n",
        "    data = str(data).lower()\n",
        "    data = re.sub('\\[.*?\\]', '', data)\n",
        "    data = re.sub('https?://\\S+|www\\.\\S+', '', data)\n",
        "    data = re.sub('<.*?>+', '', data)\n",
        "    data = re.sub('[%s]' % re.escape(string.punctuation), '', data)\n",
        "    data = re.sub('\\n', '', data)\n",
        "    data = re.sub('\\w*\\d\\w*', '', data)\n",
        "    return data\n"
      ],
      "execution_count": null,
      "outputs": []
    },
    {
      "cell_type": "code",
      "metadata": {
        "colab": {
          "base_uri": "https://localhost:8080/",
          "height": 363
        },
        "id": "3SXiyJrdWznT",
        "outputId": "3fbcc929-b239-4372-cf97-d0e6b1b7a892"
      },
      "source": [
        "# Clean Training Data\n",
        "train_df[\"text\"] = train_df[\"text\"].apply(lambda x:clean_text(x))\n",
        "train_df[\"selected_text\"] = train_df[\"selected_text\"].apply(lambda x:clean_text(x))\n",
        "train_df[0:10]"
      ],
      "execution_count": null,
      "outputs": [
        {
          "output_type": "execute_result",
          "data": {
            "text/html": [
              "<div>\n",
              "<style scoped>\n",
              "    .dataframe tbody tr th:only-of-type {\n",
              "        vertical-align: middle;\n",
              "    }\n",
              "\n",
              "    .dataframe tbody tr th {\n",
              "        vertical-align: top;\n",
              "    }\n",
              "\n",
              "    .dataframe thead th {\n",
              "        text-align: right;\n",
              "    }\n",
              "</style>\n",
              "<table border=\"1\" class=\"dataframe\">\n",
              "  <thead>\n",
              "    <tr style=\"text-align: right;\">\n",
              "      <th></th>\n",
              "      <th>textID</th>\n",
              "      <th>text</th>\n",
              "      <th>selected_text</th>\n",
              "      <th>sentiment</th>\n",
              "    </tr>\n",
              "  </thead>\n",
              "  <tbody>\n",
              "    <tr>\n",
              "      <th>0</th>\n",
              "      <td>cb774db0d1</td>\n",
              "      <td>id have responded if i were going</td>\n",
              "      <td>id have responded if i were going</td>\n",
              "      <td>neutral</td>\n",
              "    </tr>\n",
              "    <tr>\n",
              "      <th>1</th>\n",
              "      <td>549e992a42</td>\n",
              "      <td>sooo sad i will miss you here in san diego</td>\n",
              "      <td>sooo sad</td>\n",
              "      <td>negative</td>\n",
              "    </tr>\n",
              "    <tr>\n",
              "      <th>2</th>\n",
              "      <td>088c60f138</td>\n",
              "      <td>my boss is bullying me</td>\n",
              "      <td>bullying me</td>\n",
              "      <td>negative</td>\n",
              "    </tr>\n",
              "    <tr>\n",
              "      <th>3</th>\n",
              "      <td>9642c003ef</td>\n",
              "      <td>what interview leave me alone</td>\n",
              "      <td>leave me alone</td>\n",
              "      <td>negative</td>\n",
              "    </tr>\n",
              "    <tr>\n",
              "      <th>4</th>\n",
              "      <td>358bd9e861</td>\n",
              "      <td>sons of  why couldnt they put them on the rel...</td>\n",
              "      <td>sons of</td>\n",
              "      <td>negative</td>\n",
              "    </tr>\n",
              "    <tr>\n",
              "      <th>5</th>\n",
              "      <td>28b57f3990</td>\n",
              "      <td>some shameless plugging for the best rangers...</td>\n",
              "      <td>some shameless plugging for the best rangers...</td>\n",
              "      <td>neutral</td>\n",
              "    </tr>\n",
              "    <tr>\n",
              "      <th>6</th>\n",
              "      <td>6e0c6d75b1</td>\n",
              "      <td>feedings for the baby are fun when he is all ...</td>\n",
              "      <td>fun</td>\n",
              "      <td>positive</td>\n",
              "    </tr>\n",
              "    <tr>\n",
              "      <th>7</th>\n",
              "      <td>50e14c0bb8</td>\n",
              "      <td>soooo high</td>\n",
              "      <td>soooo high</td>\n",
              "      <td>neutral</td>\n",
              "    </tr>\n",
              "    <tr>\n",
              "      <th>8</th>\n",
              "      <td>e050245fbd</td>\n",
              "      <td>both of you</td>\n",
              "      <td>both of you</td>\n",
              "      <td>neutral</td>\n",
              "    </tr>\n",
              "    <tr>\n",
              "      <th>9</th>\n",
              "      <td>fc2cbefa9d</td>\n",
              "      <td>journey wow u just became cooler  hehe is tha...</td>\n",
              "      <td>wow u just became cooler</td>\n",
              "      <td>positive</td>\n",
              "    </tr>\n",
              "  </tbody>\n",
              "</table>\n",
              "</div>"
            ],
            "text/plain": [
              "       textID  ... sentiment\n",
              "0  cb774db0d1  ...   neutral\n",
              "1  549e992a42  ...  negative\n",
              "2  088c60f138  ...  negative\n",
              "3  9642c003ef  ...  negative\n",
              "4  358bd9e861  ...  negative\n",
              "5  28b57f3990  ...   neutral\n",
              "6  6e0c6d75b1  ...  positive\n",
              "7  50e14c0bb8  ...   neutral\n",
              "8  e050245fbd  ...   neutral\n",
              "9  fc2cbefa9d  ...  positive\n",
              "\n",
              "[10 rows x 4 columns]"
            ]
          },
          "metadata": {
            "tags": []
          },
          "execution_count": 9
        }
      ]
    },
    {
      "cell_type": "code",
      "metadata": {
        "colab": {
          "base_uri": "https://localhost:8080/",
          "height": 363
        },
        "id": "0GTotxN1WywO",
        "outputId": "be070881-aa85-4e9d-8944-439650348024"
      },
      "source": [
        "# Clean Testing Data\n",
        "test_df[\"text\"] = test_df[\"text\"].apply(lambda x:clean_text(x))\n",
        "test_df[0:10]"
      ],
      "execution_count": null,
      "outputs": [
        {
          "output_type": "execute_result",
          "data": {
            "text/html": [
              "<div>\n",
              "<style scoped>\n",
              "    .dataframe tbody tr th:only-of-type {\n",
              "        vertical-align: middle;\n",
              "    }\n",
              "\n",
              "    .dataframe tbody tr th {\n",
              "        vertical-align: top;\n",
              "    }\n",
              "\n",
              "    .dataframe thead th {\n",
              "        text-align: right;\n",
              "    }\n",
              "</style>\n",
              "<table border=\"1\" class=\"dataframe\">\n",
              "  <thead>\n",
              "    <tr style=\"text-align: right;\">\n",
              "      <th></th>\n",
              "      <th>textID</th>\n",
              "      <th>text</th>\n",
              "      <th>selected_text</th>\n",
              "      <th>sentiment</th>\n",
              "    </tr>\n",
              "  </thead>\n",
              "  <tbody>\n",
              "    <tr>\n",
              "      <th>0</th>\n",
              "      <td>cb774db0d1</td>\n",
              "      <td>id have responded if i were going</td>\n",
              "      <td>I`d have responded, if I were going</td>\n",
              "      <td>neutral</td>\n",
              "    </tr>\n",
              "    <tr>\n",
              "      <th>1</th>\n",
              "      <td>549e992a42</td>\n",
              "      <td>sooo sad i will miss you here in san diego</td>\n",
              "      <td>Sooo SAD</td>\n",
              "      <td>negative</td>\n",
              "    </tr>\n",
              "    <tr>\n",
              "      <th>2</th>\n",
              "      <td>088c60f138</td>\n",
              "      <td>my boss is bullying me</td>\n",
              "      <td>bullying me</td>\n",
              "      <td>negative</td>\n",
              "    </tr>\n",
              "    <tr>\n",
              "      <th>3</th>\n",
              "      <td>9642c003ef</td>\n",
              "      <td>what interview leave me alone</td>\n",
              "      <td>leave me alone</td>\n",
              "      <td>negative</td>\n",
              "    </tr>\n",
              "    <tr>\n",
              "      <th>4</th>\n",
              "      <td>358bd9e861</td>\n",
              "      <td>sons of  why couldnt they put them on the rel...</td>\n",
              "      <td>Sons of ****,</td>\n",
              "      <td>negative</td>\n",
              "    </tr>\n",
              "    <tr>\n",
              "      <th>5</th>\n",
              "      <td>28b57f3990</td>\n",
              "      <td>some shameless plugging for the best rangers...</td>\n",
              "      <td>http://www.dothebouncy.com/smf - some shameles...</td>\n",
              "      <td>neutral</td>\n",
              "    </tr>\n",
              "    <tr>\n",
              "      <th>6</th>\n",
              "      <td>6e0c6d75b1</td>\n",
              "      <td>feedings for the baby are fun when he is all ...</td>\n",
              "      <td>fun</td>\n",
              "      <td>positive</td>\n",
              "    </tr>\n",
              "    <tr>\n",
              "      <th>7</th>\n",
              "      <td>50e14c0bb8</td>\n",
              "      <td>soooo high</td>\n",
              "      <td>Soooo high</td>\n",
              "      <td>neutral</td>\n",
              "    </tr>\n",
              "    <tr>\n",
              "      <th>8</th>\n",
              "      <td>e050245fbd</td>\n",
              "      <td>both of you</td>\n",
              "      <td>Both of you</td>\n",
              "      <td>neutral</td>\n",
              "    </tr>\n",
              "    <tr>\n",
              "      <th>9</th>\n",
              "      <td>fc2cbefa9d</td>\n",
              "      <td>journey wow u just became cooler  hehe is tha...</td>\n",
              "      <td>Wow... u just became cooler.</td>\n",
              "      <td>positive</td>\n",
              "    </tr>\n",
              "  </tbody>\n",
              "</table>\n",
              "</div>"
            ],
            "text/plain": [
              "       textID  ... sentiment\n",
              "0  cb774db0d1  ...   neutral\n",
              "1  549e992a42  ...  negative\n",
              "2  088c60f138  ...  negative\n",
              "3  9642c003ef  ...  negative\n",
              "4  358bd9e861  ...  negative\n",
              "5  28b57f3990  ...   neutral\n",
              "6  6e0c6d75b1  ...  positive\n",
              "7  50e14c0bb8  ...   neutral\n",
              "8  e050245fbd  ...   neutral\n",
              "9  fc2cbefa9d  ...  positive\n",
              "\n",
              "[10 rows x 4 columns]"
            ]
          },
          "metadata": {
            "tags": []
          },
          "execution_count": 10
        }
      ]
    },
    {
      "cell_type": "code",
      "metadata": {
        "id": "iFkXJQLbiXms"
      },
      "source": [
        "# Seperate train, validation and testing fields in different lists\n",
        "val_percent = 0.8\n",
        "num_rows = train_df.shape[0]\n",
        "train_rows = round(num_rows*val_percent)\n",
        "\n",
        "train_text = train_df[\"text\"][0:train_rows]\n",
        "train_sent = train_df[\"sentiment\"][0:train_rows]\n",
        "train_targ = train_df[\"selected_text\"][0:train_rows]\n",
        "\n",
        "val_text = train_df[\"text\"][train_rows:num_rows]\n",
        "val_sent = train_df[\"sentiment\"][train_rows:num_rows]\n",
        "val_targ = train_df[\"selected_text\"][train_rows:num_rows]\n",
        "\n",
        "test_text = test_df[\"text\"]\n",
        "test_sent = test_df[\"sentiment\"]"
      ],
      "execution_count": null,
      "outputs": []
    },
    {
      "cell_type": "code",
      "metadata": {
        "id": "pemu44mujQCA"
      },
      "source": [
        "# Encodes the sentiment values to a range of -1 to 1\n",
        "def sentiment_to_val(sentiment):\n",
        "  if(sentiment == 'positive'):\n",
        "    return 1\n",
        "  elif(sentiment == 'negative'):\n",
        "    return -1\n",
        "  else:\n",
        "    return 0\n",
        "    \n",
        "train_sent = train_sent.apply(sentiment_to_val)\n",
        "train_sent = train_sent.to_numpy()\n",
        "train_sent = pd.get_dummies(train_sent).values\n",
        "\n",
        "test_sent = test_sent.apply(sentiment_to_val)\n",
        "test_sent = test_sent.to_numpy()\n",
        "test_sent = pd.get_dummies(test_sent).values"
      ],
      "execution_count": null,
      "outputs": []
    },
    {
      "cell_type": "code",
      "metadata": {
        "id": "ZWB79LPjqPT2"
      },
      "source": [
        "# Import keras layers and tools\n",
        "from keras.models import Sequential\n",
        "from keras.layers import Dense\n",
        "from keras.layers import LSTM\n",
        "from keras.layers import SpatialDropout1D\n",
        "from keras.optimizers import RMSprop\n",
        "from keras.layers.embeddings import Embedding\n",
        "from keras.preprocessing import sequence\n",
        "from keras.preprocessing.text import Tokenizer\n",
        "from keras.callbacks import EarlyStopping"
      ],
      "execution_count": null,
      "outputs": []
    },
    {
      "cell_type": "code",
      "metadata": {
        "colab": {
          "base_uri": "https://localhost:8080/"
        },
        "id": "lBat6Bw4rMLL",
        "outputId": "5cb79630-66cb-471e-e35b-67df0dc70a9b"
      },
      "source": [
        "# Create a dictionary and tokenize the text from the dataset\n",
        "max_review_length = 15\n",
        "max_target_length = 5\n",
        "corpus_size = 50000\n",
        "tokenizer = Tokenizer(num_words=corpus_size)\n",
        "tokenizer.fit_on_texts(train_df[\"text\"])\n",
        "\n",
        "train_x = tokenizer.texts_to_sequences(train_text)\n",
        "train_x = sequence.pad_sequences(train_x, maxlen= max_review_length)\n",
        "print('Shape of input data:', train_x.shape)\n",
        "\n",
        "train_y = tokenizer.texts_to_sequences(train_targ)\n",
        "train_y = sequence.pad_sequences(train_y, maxlen= max_target_length)\n",
        "print('Shape of target data:', train_y.shape)"
      ],
      "execution_count": null,
      "outputs": [
        {
          "output_type": "stream",
          "text": [
            "Shape of input data: (21984, 15)\n",
            "Shape of target data: (21984, 5)\n"
          ],
          "name": "stdout"
        }
      ]
    },
    {
      "cell_type": "code",
      "metadata": {
        "id": "z1BiHd2vlIwC"
      },
      "source": [
        "# Normalize values\n",
        "max_val = 9999\n",
        "min_val = 0\n",
        "def NormalizeData(data):\n",
        "    return (data - min_val) / max_val - min_val\n",
        "\n",
        "def DenormalizeData(data):\n",
        "    return data * (max_val - min_val) + min_val\n",
        "\n",
        "train_x_scale = NormalizeData(train_x)\n",
        "train_y_scale = NormalizeData(train_y)"
      ],
      "execution_count": null,
      "outputs": []
    },
    {
      "cell_type": "code",
      "metadata": {
        "colab": {
          "base_uri": "https://localhost:8080/"
        },
        "id": "8xsPxI3UZ7a5",
        "outputId": "68c098e9-8bc8-4937-bb4b-158195e02a8e"
      },
      "source": [
        "# Create LSTM Model\n",
        "EMBEDDING_DIM = 1024\n",
        "model = Sequential()\n",
        "model.add(Embedding(corpus_size, EMBEDDING_DIM, input_length=max_review_length, mask_zero=True))\n",
        "model.add(LSTM(2048, dropout=0.2, return_sequences=True))\n",
        "model.add(LSTM(512, dropout=0.2, recurrent_dropout=0.2))\n",
        "model.add(Dense(max_target_length, activation='relu'))\n",
        "opt = keras.optimizers.RMSprop(lr=0.005, rho=0.9, epsilon=1e-08, decay=0.0)\n",
        "model.compile(loss='categorical_crossentropy', optimizer=opt, metrics=['accuracy'])\n",
        "print(model.summary())"
      ],
      "execution_count": null,
      "outputs": [
        {
          "output_type": "stream",
          "text": [
            "WARNING:tensorflow:Layer lstm_1 will not use cuDNN kernel since it doesn't meet the cuDNN kernel criteria. It will use generic GPU kernel as fallback when running on GPU\n",
            "Model: \"sequential\"\n",
            "_________________________________________________________________\n",
            "Layer (type)                 Output Shape              Param #   \n",
            "=================================================================\n",
            "embedding (Embedding)        (None, 15, 1024)          51200000  \n",
            "_________________________________________________________________\n",
            "lstm (LSTM)                  (None, 15, 2048)          25174016  \n",
            "_________________________________________________________________\n",
            "lstm_1 (LSTM)                (None, 512)               5244928   \n",
            "_________________________________________________________________\n",
            "dense (Dense)                (None, 5)                 2565      \n",
            "=================================================================\n",
            "Total params: 81,621,509\n",
            "Trainable params: 81,621,509\n",
            "Non-trainable params: 0\n",
            "_________________________________________________________________\n",
            "None\n"
          ],
          "name": "stdout"
        }
      ]
    },
    {
      "cell_type": "code",
      "metadata": {
        "colab": {
          "base_uri": "https://localhost:8080/"
        },
        "id": "4z-oZdnQr-n0",
        "outputId": "4b37cd01-035b-4f17-821d-55cd5a2e814a"
      },
      "source": [
        "# Train Model\n",
        "epochs = 10\n",
        "batch_size = 128\n",
        "model.fit(train_x_scale, train_y_scale, \n",
        "          epochs=epochs, \n",
        "          batch_size=batch_size,\n",
        "          validation_split=0.1)"
      ],
      "execution_count": null,
      "outputs": [
        {
          "output_type": "stream",
          "text": [
            "Epoch 1/10\n",
            "155/155 [==============================] - 59s 330ms/step - loss: nan - accuracy: 0.1634 - val_loss: nan - val_accuracy: 0.5443\n",
            "Epoch 2/10\n",
            "155/155 [==============================] - 49s 319ms/step - loss: nan - accuracy: 0.5395 - val_loss: 4.5903 - val_accuracy: 0.5512\n",
            "Epoch 3/10\n",
            "155/155 [==============================] - 50s 324ms/step - loss: 2.0149 - accuracy: 0.5484 - val_loss: 1.6780 - val_accuracy: 0.5721\n",
            "Epoch 4/10\n",
            "155/155 [==============================] - 49s 319ms/step - loss: 1.4456 - accuracy: 0.5652 - val_loss: 1.5806 - val_accuracy: 0.5616\n",
            "Epoch 5/10\n",
            "155/155 [==============================] - 50s 321ms/step - loss: 1.4177 - accuracy: 0.5623 - val_loss: 1.5593 - val_accuracy: 0.5662\n",
            "Epoch 6/10\n",
            "155/155 [==============================] - 50s 322ms/step - loss: 1.4515 - accuracy: 0.5691 - val_loss: 1.5530 - val_accuracy: 0.5716\n",
            "Epoch 7/10\n",
            "155/155 [==============================] - 50s 320ms/step - loss: 1.5198 - accuracy: 0.5669 - val_loss: 1.5529 - val_accuracy: 0.5675\n",
            "Epoch 8/10\n",
            "155/155 [==============================] - 50s 320ms/step - loss: 1.3746 - accuracy: 0.5717 - val_loss: 1.5579 - val_accuracy: 0.5693\n",
            "Epoch 9/10\n",
            "155/155 [==============================] - 50s 321ms/step - loss: 1.4667 - accuracy: 0.5643 - val_loss: 1.5499 - val_accuracy: 0.5698\n",
            "Epoch 10/10\n",
            "155/155 [==============================] - 50s 320ms/step - loss: 1.3961 - accuracy: 0.5674 - val_loss: 1.5448 - val_accuracy: 0.5716\n"
          ],
          "name": "stdout"
        },
        {
          "output_type": "execute_result",
          "data": {
            "text/plain": [
              "<tensorflow.python.keras.callbacks.History at 0x7faae0202d90>"
            ]
          },
          "metadata": {
            "tags": []
          },
          "execution_count": 17
        }
      ]
    },
    {
      "cell_type": "code",
      "metadata": {
        "colab": {
          "base_uri": "https://localhost:8080/"
        },
        "id": "NELMRsm1VIbJ",
        "outputId": "58a5fdcb-8c98-48c8-ea28-fab9f1259c06"
      },
      "source": [
        "# Tokenizing validation set\n",
        "val_x = tokenizer.texts_to_sequences(val_text)\n",
        "val_x = sequence.pad_sequences(val_x, maxlen= max_review_length)\n",
        "print('Shape of input data:', val_x.shape)\n",
        "\n",
        "val_y = tokenizer.texts_to_sequences(val_targ)\n",
        "val_y = sequence.pad_sequences(val_y, maxlen= max_target_length)\n",
        "print('Shape of target data:', val_y.shape)\n",
        "\n",
        "val_x_scale = NormalizeData(val_x)\n",
        "val_y_scale = NormalizeData(val_y)\n",
        "\n",
        "# Evaluating model\n",
        "loss, acc = model.evaluate(val_x_scale, val_y_scale, verbose=2, batch_size=batch_size)\n",
        "print(f\"loss: {loss}\")\n",
        "print(f\"Validation accuracy: {acc}\")"
      ],
      "execution_count": null,
      "outputs": [
        {
          "output_type": "stream",
          "text": [
            "Shape of input data: (5496, 15)\n",
            "Shape of target data: (5496, 5)\n",
            "43/43 - 5s - loss: 0.3709 - accuracy: 0.5182\n",
            "loss: 0.37087470293045044\n",
            "Validation accuracy: 0.5181950330734253\n"
          ],
          "name": "stdout"
        }
      ]
    },
    {
      "cell_type": "code",
      "metadata": {
        "colab": {
          "base_uri": "https://localhost:8080/"
        },
        "id": "VzBjjYxydxP0",
        "outputId": "b3d028bc-de95-4e98-b403-e1a675aeae86"
      },
      "source": [
        "# Tokenizing testing set\n",
        "test_x = tokenizer.texts_to_sequences(test_text)\n",
        "test_x = sequence.pad_sequences(test_x, maxlen= max_review_length)\n",
        "print('Shape of input data:', test_x.shape)\n",
        "\n",
        "test_x_scale = NormalizeData(test_x)"
      ],
      "execution_count": null,
      "outputs": [
        {
          "output_type": "stream",
          "text": [
            "Shape of input data: (3534, 15)\n"
          ],
          "name": "stdout"
        }
      ]
    },
    {
      "cell_type": "code",
      "metadata": {
        "colab": {
          "base_uri": "https://localhost:8080/",
          "height": 36
        },
        "id": "GJDkCxUJAUh7",
        "outputId": "69e8470d-6128-4a55-af9e-e6fca1d1aad6"
      },
      "source": [
        "# Prediction on test dataset using model\n",
        "pred = model.predict(test_x_scale)\n",
        "pred_rounded = np.round(pred)\n",
        "pred_text = tokenizer.sequences_to_texts(pred_rounded)\n",
        "pred_text[0]"
      ],
      "execution_count": null,
      "outputs": [
        {
          "output_type": "execute_result",
          "data": {
            "application/vnd.google.colaboratory.intrinsic+json": {
              "type": "string"
            },
            "text/plain": [
              "'in for me so like'"
            ]
          },
          "metadata": {
            "tags": []
          },
          "execution_count": 40
        }
      ]
    },
    {
      "cell_type": "code",
      "metadata": {
        "id": "v1dXDYs-iVg-"
      },
      "source": [
        "def jaccard(str1, str2):\n",
        "  # Returns the Jaccard metric which is the similarity between str1 and str2\n",
        "  a = set(str1.lower().split())\n",
        "  b = set(str2.lower().split())\n",
        "  c = a.intersection(b)\n",
        "\n",
        "  numerator = len(c)\n",
        "  denominator = len(a)+len(b)-len(c)\n",
        "\n",
        "  if(denominator != 0):\n",
        "    return float (numerator/denominator)\n",
        "  else:\n",
        "    return 0"
      ],
      "execution_count": null,
      "outputs": []
    },
    {
      "cell_type": "code",
      "metadata": {
        "id": "nK0B746iVRn9"
      },
      "source": [
        "val_text_list = val_text.to_list()\n",
        "val_targ_list = val_targ.to_list()"
      ],
      "execution_count": null,
      "outputs": []
    },
    {
      "cell_type": "code",
      "metadata": {
        "colab": {
          "base_uri": "https://localhost:8080/"
        },
        "id": "hPAhcckBMvqy",
        "outputId": "ddc2b46d-6ab3-4b72-ab53-ba35afbfa350"
      },
      "source": [
        "jacc_scores = []\n",
        "for i in range(len(val_text_list)):\n",
        "  jacc_scores.append(jaccard(val_text_list[i], val_targ_list[i]))\n",
        "\n",
        "print(len(jacc_scores))\n",
        "print(np.mean(jacc_scores))"
      ],
      "execution_count": null,
      "outputs": [
        {
          "output_type": "stream",
          "text": [
            "5496\n",
            "0.603229321631829\n"
          ],
          "name": "stdout"
        }
      ]
    }
  ]
}